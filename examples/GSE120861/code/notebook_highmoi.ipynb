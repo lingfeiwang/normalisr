{
 "cells": [
  {
   "cell_type": "markdown",
   "metadata": {},
   "source": [
    "# Example GSE120861\n",
    "\n",
    "### Dataset\n",
    "This is an demonstration of analyzing CRISPRi scRNA-seq screen with Normalisr. Only a subset of 30 gRNAs and ~7000 cells are extracted from GSE120861 highmoi dataset for this demonstration. You can change it to the full highmoi dataset or other datasets, by following the guideline in README.\n",
    "\n",
    "**Warning**: You will only get the actual results with the **full dataset** of all gRNAs and cells. Dropping gRNAs reduces the amount of competition that can be accounted for. By default, this example dataset only contains 30 gRNAs compared to over 3,000 in the 'highmoi' dataset or 13,000 in the 'screen' dataset of GSE120861. This example is intended as a demonstration of use for Normalisr, rather than an exact reproduction of our results in the manuscript.\n",
    "\n",
    "### Usage\n",
    "You can get the help of any function by typing ?func in jupyter notebook. For example, the line below shows documentation for function 'open'.\n",
    "\n",
    "`?open`\n",
    "\n",
    "To get help for Normalisr, try a specific function such as\n",
    "\n",
    "`import normalisr.normalisr as norm\n",
    "?norm.de`"
   ]
  },
  {
   "cell_type": "code",
   "execution_count": 1,
   "metadata": {},
   "outputs": [],
   "source": [
    "import numpy as np\n",
    "import normalisr.normalisr as norm\n",
    "from os.path import join as pjoin\n",
    "import matplotlib.pyplot as plt\n",
    "from scipy.io import mmread\n",
    "\n",
    "diri='../data/highmoi'"
   ]
  },
  {
   "cell_type": "markdown",
   "metadata": {},
   "source": [
    "### Optional extra logging"
   ]
  },
  {
   "cell_type": "code",
   "execution_count": 2,
   "metadata": {},
   "outputs": [],
   "source": [
    "import logging\n",
    "logging.basicConfig(level=logging.INFO)\n",
    "# logging.basicConfig(level=logging.DEBUG)"
   ]
  },
  {
   "cell_type": "markdown",
   "metadata": {},
   "source": [
    "### Load data"
   ]
  },
  {
   "cell_type": "code",
   "execution_count": 3,
   "metadata": {},
   "outputs": [],
   "source": [
    "dt0=mmread(pjoin(diri,'0_read.mtx.gz')).astype(int).toarray()\n",
    "dg=np.loadtxt(pjoin(diri,'0_group.tsv.gz'),delimiter='\\t',dtype=int)\n",
    "dc=np.loadtxt(pjoin(diri,'0_cov.tsv.gz'),delimiter='\\t',dtype=int)\n",
    "with open(pjoin(diri,'0_gene.txt'),'r') as f:\n",
    "\tnamet=np.array([x.strip() for x in f.readlines()])\n",
    "with open(pjoin(diri,'0_cell.txt'),'r') as f:\n",
    "\tnames=np.array([x.strip() for x in f.readlines()])\n",
    "with open(pjoin(diri,'0_gRNA.txt'),'r') as f:\n",
    "\tnameg=np.array([x.strip() for x in f.readlines()])\n",
    "with open(pjoin(diri,'0_cov.txt'),'r') as f:\n",
    "\tnamec=np.array([x.strip() for x in f.readlines()])\n",
    "nc,ng,ns,nt=[len(x) for x in [namec,nameg,names,namet]]\n",
    "assert dt0.shape==(nt,ns) and dg.shape==(ng,ns) and dc.shape==(nc,ns)"
   ]
  },
  {
   "cell_type": "markdown",
   "metadata": {},
   "source": [
    "### Initial QC for low read cell and gene removal"
   ]
  },
  {
   "cell_type": "code",
   "execution_count": 4,
   "metadata": {},
   "outputs": [
    {
     "name": "stderr",
     "output_type": "stream",
     "text": [
      "INFO:root:Removed 21725/32738 genes and 0/7234 cells in QC.\n"
     ]
    },
    {
     "name": "stdout",
     "output_type": "stream",
     "text": [
      "Genes passed QC: 11013/32738\n",
      "Cells passed QC: 7234/7234\n"
     ]
    }
   ],
   "source": [
    "select=norm.qc_reads(dt0,0,50,0.02,500,100,0)\n",
    "print('Genes passed QC: {}/{}'.format(len(select[0]),nt))\n",
    "print('Cells passed QC: {}/{}'.format(len(select[1]),ns))\n",
    "\n",
    "dt0=dt0[select[0]][:,select[1]].copy()\n",
    "dg=dg[:,select[1]].copy()\n",
    "dc=dc[:,select[1]].copy()\n",
    "namet=namet[select[0]]\n",
    "names=names[select[1]]\n",
    "ns,nt=[len(x) for x in [names,namet]]\n",
    "assert dt0.shape==(nt,ns) and dg.shape==(ng,ns) and dc.shape==(nc,ns)"
   ]
  },
  {
   "cell_type": "markdown",
   "metadata": {},
   "source": [
    "### Compute Bayesian logCPM and cellular summary covariates"
   ]
  },
  {
   "cell_type": "code",
   "execution_count": 5,
   "metadata": {},
   "outputs": [],
   "source": [
    "dt,_,_,dc2=norm.lcpm(dt0)\n",
    "dc=np.concatenate([dc,dc2],axis=0)"
   ]
  },
  {
   "cell_type": "markdown",
   "metadata": {},
   "source": [
    "### Normalize covariates and add constant-1 covariate"
   ]
  },
  {
   "cell_type": "code",
   "execution_count": 6,
   "metadata": {},
   "outputs": [],
   "source": [
    "dc=norm.normcov(dc)"
   ]
  },
  {
   "cell_type": "markdown",
   "metadata": {},
   "source": [
    "### Compute variance normalization factors for each gene and each cell"
   ]
  },
  {
   "cell_type": "code",
   "execution_count": 7,
   "metadata": {},
   "outputs": [],
   "source": [
    "sf=norm.scaling_factor(dt0)\n",
    "weight=norm.compute_var(dt,dc)"
   ]
  },
  {
   "cell_type": "markdown",
   "metadata": {},
   "source": [
    "### Normalize gene expression at mean and variance levels and covariates at variance level"
   ]
  },
  {
   "cell_type": "code",
   "execution_count": 8,
   "metadata": {},
   "outputs": [],
   "source": [
    "dt,dc=norm.normvar(dt,dc,weight,sf)"
   ]
  },
  {
   "cell_type": "markdown",
   "metadata": {},
   "source": [
    "### Perform differential expression test with competition-naive and competition-aware methods"
   ]
  },
  {
   "cell_type": "code",
   "execution_count": 9,
   "metadata": {},
   "outputs": [],
   "source": [
    "methods=['naive','aware']\n",
    "\n",
    "de_naive=norm.de(dg,dt,dc)\n",
    "de_aware=norm.de(dg,dt,dc,single=4)"
   ]
  },
  {
   "cell_type": "markdown",
   "metadata": {},
   "source": [
    "## Visualization\n",
    "**Warning**: You will only get the actual method performances with the **full dataset** of all gRNAs and cells. Dropping gRNAs reduces the amount of competition that can be accounted for. By default, this example dataset only contains 30 gRNAs compared to over 3,000 in the 'highmoi' dataset or 13,000 in the 'screen' dataset of GSE120861. This example is intended as a demonstration of use for Normalisr, rather than an exact reproduction of our results in the manuscript.\n",
    "\n",
    "### Non-targeting-control (NTC) P-value distribution"
   ]
  },
  {
   "cell_type": "code",
   "execution_count": 10,
   "metadata": {
    "scrolled": false
   },
   "outputs": [
    {
     "data": {
      "image/png": "[encoded data removed]",
      "text/plain": [
       "<Figure size 432x288 with 1 Axes>"
      ]
     },
     "metadata": {
      "needs_background": "light"
     },
     "output_type": "display_data"
    }
   ],
   "source": [
    "t1=[x.endswith('_negctrl') for x in nameg]\n",
    "dx=np.linspace(0,1,51)\n",
    "dy=[np.histogram(x[0][t1],bins=dx)[0] for x in [de_naive,de_aware]]\n",
    "\n",
    "for xi in range(len(methods)):\n",
    "\tplt.plot((dx[1:]+dx[:-1])/2,dy[xi],label=methods[xi])\n",
    "plt.xlabel('P-value')\n",
    "plt.ylabel('Histogram density')\n",
    "plt.legend();"
   ]
  },
  {
   "cell_type": "markdown",
   "metadata": {},
   "source": [
    "### LogFC distribution against all genes"
   ]
  },
  {
   "cell_type": "code",
   "execution_count": 11,
   "metadata": {
    "scrolled": false
   },
   "outputs": [
    {
     "data": {
      "image/png": "[encoded data removed]",
      "text/plain": [
       "<Figure size 432x288 with 1 Axes>"
      ]
     },
     "metadata": {
      "needs_background": "light"
     },
     "output_type": "display_data"
    }
   ],
   "source": [
    "t1=np.array([x.split('_')[1]=='TSS' for x in nameg])\n",
    "dx=np.linspace(-1,1,50)\n",
    "dy=[np.histogram(de_aware[1][x],bins=dx)[0] for x in [t1,~t1]]\n",
    "\n",
    "plt.semilogy((dx[1:]+dx[:-1])/2,dy[0],label='TSS-targeting gRNA');\n",
    "plt.semilogy((dx[1:]+dx[:-1])/2,dy[1],label='NTC gRNA');\n",
    "plt.xlabel('LogFC')\n",
    "plt.ylabel('Histogram density')\n",
    "plt.legend();"
   ]
  },
  {
   "cell_type": "code",
   "execution_count": null,
   "metadata": {},
   "outputs": [],
   "source": []
  }
 ],
 "metadata": {
  "kernelspec": {
   "display_name": "Python 3",
   "language": "python",
   "name": "python3"
  },
  "language_info": {
   "codemirror_mode": {
    "name": "ipython",
    "version": 3
   },
   "file_extension": ".py",
   "mimetype": "text/x-python",
   "name": "python",
   "nbconvert_exporter": "python",
   "pygments_lexer": "ipython3",
   "version": "3.8.5"
  }
 },
 "nbformat": 4,
 "nbformat_minor": 2
}
