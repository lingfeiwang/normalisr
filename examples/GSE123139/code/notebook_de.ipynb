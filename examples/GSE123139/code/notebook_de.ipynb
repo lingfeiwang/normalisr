{
 "cells": [
  {
   "cell_type": "markdown",
   "metadata": {},
   "source": [
    "# Example GSE123139 differential expression\n",
    "\n",
    "### Dataset\n",
    "This is an demonstration of differential expression analysis with Normalisr between dysfunctional and naive T cells in human melanoma scRNA-seq. Only a subset of cells were extracted from GSE123139 dataset for this demonstration. You can change it to all the cells by following the guideline in example README.\n",
    "\n",
    "**Warning**: You will only get the actual results with the **full dataset** of all cells. This example is intended as a demonstration of use for Normalisr, than an exact reproduction of our results in the manuscript.\n",
    "\n",
    "### Usage\n",
    "You can get the help of any function by typing ?func in jupyter notebook. For example, the line below shows documentation for function 'open'.\n",
    "\n",
    "`?open`\n",
    "\n",
    "To get help for Normalisr, try a specific function such as\n",
    "\n",
    "`import normalisr.normalisr as norm\n",
    "?norm.de`"
   ]
  },
  {
   "cell_type": "code",
   "execution_count": 1,
   "metadata": {},
   "outputs": [],
   "source": [
    "import numpy as np\n",
    "import normalisr.normalisr as norm\n",
    "from os.path import join as pjoin\n",
    "import matplotlib.pyplot as plt\n",
    "from scipy.io import mmread\n",
    "\n",
    "diri='../data/de'"
   ]
  },
  {
   "cell_type": "markdown",
   "metadata": {},
   "source": [
    "### Optional extra logging"
   ]
  },
  {
   "cell_type": "code",
   "execution_count": 2,
   "metadata": {},
   "outputs": [],
   "source": [
    "import logging\n",
    "logging.basicConfig(level=logging.INFO)\n",
    "# logging.basicConfig(level=logging.DEBUG)"
   ]
  },
  {
   "cell_type": "markdown",
   "metadata": {},
   "source": [
    "### Load data"
   ]
  },
  {
   "cell_type": "code",
   "execution_count": 3,
   "metadata": {},
   "outputs": [],
   "source": [
    "dt0=mmread(pjoin(diri,'0_read.mtx.gz')).astype(int).toarray()\n",
    "dg=np.loadtxt(pjoin(diri,'0_group.tsv.gz'),delimiter='\\t',dtype=int)\n",
    "if dg.ndim==1:\n",
    "\tdg=dg.reshape(1,-1)\n",
    "dc=np.loadtxt(pjoin(diri,'0_cov.tsv.gz'),delimiter='\\t',dtype=int)\n",
    "with open(pjoin(diri,'0_gene.txt'),'r') as f:\n",
    "\tnamet=np.array([x.strip() for x in f.readlines()])\n",
    "with open(pjoin(diri,'0_cell.txt'),'r') as f:\n",
    "\tnames=np.array([x.strip() for x in f.readlines()])\n",
    "nameg=np.array([''])\n",
    "with open(pjoin(diri,'0_cov.txt'),'r') as f:\n",
    "\tnamec=np.array([x.strip() for x in f.readlines()])\n",
    "nc,ng,ns,nt=[len(x) for x in [namec,nameg,names,namet]]\n",
    "assert dt0.shape==(nt,ns) and dg.shape==(ng,ns) and dc.shape==(nc,ns)"
   ]
  },
  {
   "cell_type": "markdown",
   "metadata": {},
   "source": [
    "### Initial QC for low read cell and gene removal"
   ]
  },
  {
   "cell_type": "code",
   "execution_count": 4,
   "metadata": {},
   "outputs": [
    {
     "name": "stderr",
     "output_type": "stream",
     "text": [
      "INFO:root:Removed 25582/28031 genes and 6/7783 cells in QC.\n"
     ]
    },
    {
     "name": "stdout",
     "output_type": "stream",
     "text": [
      "Genes passed QC: 2449/28031\n",
      "Cells passed QC: 7777/7783\n"
     ]
    }
   ],
   "source": [
    "select=norm.qc_reads(dt0,0,500,0.02,500,100,0)\n",
    "print('Genes passed QC: {}/{}'.format(len(select[0]),nt))\n",
    "print('Cells passed QC: {}/{}'.format(len(select[1]),ns))\n",
    "\n",
    "dt0=dt0[select[0]][:,select[1]].copy()\n",
    "dg=dg[:,select[1]].copy()\n",
    "dc=dc[:,select[1]].copy()\n",
    "namet=namet[select[0]]\n",
    "names=names[select[1]]\n",
    "ns,nt=[len(x) for x in [names,namet]]\n",
    "assert dt0.shape==(nt,ns) and dg.shape==(ng,ns) and dc.shape==(nc,ns)"
   ]
  },
  {
   "cell_type": "markdown",
   "metadata": {},
   "source": [
    "### Compute Bayesian logCPM and cellular summary covariates"
   ]
  },
  {
   "cell_type": "code",
   "execution_count": 5,
   "metadata": {},
   "outputs": [],
   "source": [
    "dt,_,_,dc2=norm.lcpm(dt0)\n",
    "dc=np.concatenate([dc,dc2],axis=0)"
   ]
  },
  {
   "cell_type": "markdown",
   "metadata": {},
   "source": [
    "### Normalize covariates and add constant-1 covariate"
   ]
  },
  {
   "cell_type": "code",
   "execution_count": 6,
   "metadata": {},
   "outputs": [],
   "source": [
    "dc=norm.normcov(dc)"
   ]
  },
  {
   "cell_type": "markdown",
   "metadata": {},
   "source": [
    "### Compute variance normalization factors for each gene and each cell"
   ]
  },
  {
   "cell_type": "code",
   "execution_count": 7,
   "metadata": {},
   "outputs": [],
   "source": [
    "sf=norm.scaling_factor(dt0)\n",
    "weight=norm.compute_var(dt,dc)"
   ]
  },
  {
   "cell_type": "markdown",
   "metadata": {},
   "source": [
    "### Detect very-low-variance cell outliers"
   ]
  },
  {
   "cell_type": "code",
   "execution_count": 8,
   "metadata": {},
   "outputs": [
    {
     "name": "stderr",
     "output_type": "stream",
     "text": [
      "INFO:root:Removed 13/7777 cells due to variance outlier\n"
     ]
    }
   ],
   "source": [
    "select=norm.qc_outlier(weight)"
   ]
  },
  {
   "cell_type": "markdown",
   "metadata": {},
   "source": [
    "### Remove very-low-variance cell outliers"
   ]
  },
  {
   "cell_type": "code",
   "execution_count": 9,
   "metadata": {},
   "outputs": [
    {
     "name": "stdout",
     "output_type": "stream",
     "text": [
      "Cells passed outlier QC: 7764/7777\n"
     ]
    }
   ],
   "source": [
    "print('Cells passed outlier QC: {}/{}'.format(select.sum(),ns))\n",
    "dt0=dt0[:,select].copy()\n",
    "dg=dg[:,select].copy()\n",
    "dt=dt[:,select].copy()\n",
    "dc=dc[:,select].copy()\n",
    "weight=weight[select]\n",
    "names=names[select]\n",
    "ns=len(names)"
   ]
  },
  {
   "cell_type": "markdown",
   "metadata": {},
   "source": [
    "### Normalize gene expression at mean and variance levels and covariates at variance level"
   ]
  },
  {
   "cell_type": "code",
   "execution_count": 10,
   "metadata": {},
   "outputs": [],
   "source": [
    "dt,dc=norm.normvar(dt,dc,weight,sf)"
   ]
  },
  {
   "cell_type": "markdown",
   "metadata": {},
   "source": [
    "### Perform differential expression test"
   ]
  },
  {
   "cell_type": "code",
   "execution_count": 11,
   "metadata": {},
   "outputs": [],
   "source": [
    "de=norm.de(dg,dt,dc)"
   ]
  },
  {
   "cell_type": "markdown",
   "metadata": {},
   "source": [
    "## Visualization\n",
    "### Histogram"
   ]
  },
  {
   "cell_type": "code",
   "execution_count": 12,
   "metadata": {},
   "outputs": [
    {
     "data": {
      "image/png": "[encoded data removed]",
      "text/plain": [
       "<Figure size 432x288 with 1 Axes>"
      ]
     },
     "metadata": {
      "needs_background": "light"
     },
     "output_type": "display_data"
    },
    {
     "data": {
      "image/png": "[encoded data removed]",
      "text/plain": [
       "<Figure size 432x288 with 1 Axes>"
      ]
     },
     "metadata": {
      "needs_background": "light"
     },
     "output_type": "display_data"
    }
   ],
   "source": [
    "nbin=50\n",
    "\n",
    "dx=np.linspace(0,1,nbin+1)\n",
    "tdict=dict(zip(namet,range(len(namet))))\n",
    "\n",
    "plt.hist(de[0][0],bins=dx);\n",
    "plt.xlabel('P-value')\n",
    "plt.ylabel('Histogram')\n",
    "plt.show()\n",
    "plt.hist(de[1][0],bins=nbin);\n",
    "plt.xlabel('LogFC')\n",
    "plt.ylabel('Histogram');"
   ]
  },
  {
   "cell_type": "markdown",
   "metadata": {},
   "source": [
    "### Volcano plot"
   ]
  },
  {
   "cell_type": "code",
   "execution_count": 13,
   "metadata": {},
   "outputs": [
    {
     "name": "stderr",
     "output_type": "stream",
     "text": [
      "<ipython-input-13-fa7e469f7da4>:4: RuntimeWarning: divide by zero encountered in log\n",
      "  dy=-np.log(de[0][0])\n"
     ]
    },
    {
     "data": {
      "image/png": "[encoded data removed]",
      "text/plain": [
       "<Figure size 432x288 with 1 Axes>"
      ]
     },
     "metadata": {
      "needs_background": "light"
     },
     "output_type": "display_data"
    }
   ],
   "source": [
    "genes=['LAG3','TIGIT','HAVCR2','PDCD1','CTLA4']\n",
    "color=[0.5]*3\n",
    "dx=de[1][0]\n",
    "dy=-np.log(de[0][0])\n",
    "plt.scatter(dx,dy,color=color,alpha=0.4);\n",
    "for xi in genes:\n",
    "\tplt.text(dx[tdict[xi]],dy[tdict[xi]],xi,color='red')"
   ]
  },
  {
   "cell_type": "code",
   "execution_count": null,
   "metadata": {},
   "outputs": [],
   "source": []
  }
 ],
 "metadata": {
  "kernelspec": {
   "display_name": "Python 3",
   "language": "python",
   "name": "python3"
  },
  "language_info": {
   "codemirror_mode": {
    "name": "ipython",
    "version": 3
   },
   "file_extension": ".py",
   "mimetype": "text/x-python",
   "name": "python",
   "nbconvert_exporter": "python",
   "pygments_lexer": "ipython3",
   "version": "3.8.5"
  }
 },
 "nbformat": 4,
 "nbformat_minor": 2
}
